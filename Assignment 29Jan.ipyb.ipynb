{
 "cells": [
  {
   "attachments": {},
   "cell_type": "markdown",
   "metadata": {},
   "source": [
    "Q1)= Guido Van Rossum developed python programming language"
   ]
  },
  {
   "attachments": {},
   "cell_type": "markdown",
   "metadata": {},
   "source": [
    "Q2)= Python is an interpreted programming language, supporting objting oriented, structured and functional programming."
   ]
  },
  {
   "attachments": {},
   "cell_type": "markdown",
   "metadata": {},
   "source": [
    "Q3)= Yes, Python is a case-sensitive language."
   ]
  },
  {
   "attachments": {},
   "cell_type": "markdown",
   "metadata": {},
   "source": [
    "Q4)= .py, .pyi, .pyc, .pyd, .pyd, .pyo, .pyw, and .pyz"
   ]
  },
  {
   "attachments": {},
   "cell_type": "markdown",
   "metadata": {},
   "source": [
    "Q5)= Python is an interpreted language."
   ]
  },
  {
   "attachments": {},
   "cell_type": "markdown",
   "metadata": {},
   "source": [
    "Q6)= A module, function body and a class definition."
   ]
  },
  {
   "attachments": {},
   "cell_type": "markdown",
   "metadata": {},
   "source": [
    "Q7)= We can write a single-line comment by adding a single # charater before any statement or line of code."
   ]
  },
  {
   "attachments": {},
   "cell_type": "markdown",
   "metadata": {},
   "source": [
    "Q8)= To get the Version of the python Interpreter, they are listed as follows:\n",
    "        1. Using sys.version method\n",
    "        2. Using python_Version() function\n",
    "        3. Using Python-V command"
   ]
  },
  {
   "attachments": {},
   "cell_type": "markdown",
   "metadata": {},
   "source": [
    "Q9)= Python supports the creation of anonymus functions at runtime, using a construct called \"Lambda\"."
   ]
  },
  {
   "attachments": {},
   "cell_type": "markdown",
   "metadata": {},
   "source": [
    "Q10)= PIP stands for 'Prefered Installer Program'. "
   ]
  },
  {
   "attachments": {},
   "cell_type": "markdown",
   "metadata": {},
   "source": [
    "Q11)= There are 68 built-in Python function. Some of them are: bool(), bytes(), chr(), compile(), dict(), float(), int(), len(), list(), max(), min(), print(), set(), str(), tuple(), type()."
   ]
  },
  {
   "attachments": {},
   "cell_type": "markdown",
   "metadata": {},
   "source": [
    "Q12)= An identifier can have a maximum length of 79 characters in Python."
   ]
  },
  {
   "attachments": {},
   "cell_type": "markdown",
   "metadata": {},
   "source": [
    "Q13)= Some benifits of Python are -  1. Python is Extensible, 2. Python Libraries, 3. Python Community, 4. Python is Easy to learn "
   ]
  },
  {
   "attachments": {},
   "cell_type": "markdown",
   "metadata": {},
   "source": [
    "Q14)= Memory managed in python involves a private heap containing all python objects and data structures. The management of this private heap is ensured internally by the Python memory manager."
   ]
  },
  {
   "attachments": {},
   "cell_type": "markdown",
   "metadata": {},
   "source": [
    "Q15)= Install python from this link https://www.python.org/downloads/.\n",
    "After this, install it on your PC.Look for the location where PYTHON has been installed on command prompt: amd python.\n",
    "Then go to advanced system settings and add new variable and name it as PYTHON_NAME and paste the copied path.\n",
    "Then look for the path variable, select it's value and select edit.\n",
    "Add a semicolon towards the end of the value if its not present and then type %PYTHON_HOME% ."
   ]
  },
  {
   "attachments": {},
   "cell_type": "markdown",
   "metadata": {},
   "source": [
    "Q16)= Yes, indentation is required in python."
   ]
  },
  {
   "cell_type": "markdown",
   "metadata": {},
   "source": []
  }
 ],
 "metadata": {
  "kernelspec": {
   "display_name": "Python 3",
   "language": "python",
   "name": "python3"
  },
  "language_info": {
   "name": "python",
   "version": "3.10.10"
  },
  "orig_nbformat": 4,
  "vscode": {
   "interpreter": {
    "hash": "1e798d7b312f97ff57d5a28330a01cacc8bf92400d1e1fa29a3bead021eccae0"
   }
  }
 },
 "nbformat": 4,
 "nbformat_minor": 2
}
